{
 "cells": [
  {
   "cell_type": "code",
   "execution_count": 1,
   "id": "overhead-fellowship",
   "metadata": {},
   "outputs": [],
   "source": [
    "import pandas as pd"
   ]
  },
  {
   "cell_type": "code",
   "execution_count": 17,
   "id": "close-samba",
   "metadata": {},
   "outputs": [
    {
     "data": {
      "text/html": [
       "<div>\n",
       "<style scoped>\n",
       "    .dataframe tbody tr th:only-of-type {\n",
       "        vertical-align: middle;\n",
       "    }\n",
       "\n",
       "    .dataframe tbody tr th {\n",
       "        vertical-align: top;\n",
       "    }\n",
       "\n",
       "    .dataframe thead th {\n",
       "        text-align: right;\n",
       "    }\n",
       "</style>\n",
       "<table border=\"1\" class=\"dataframe\">\n",
       "  <thead>\n",
       "    <tr style=\"text-align: right;\">\n",
       "      <th></th>\n",
       "      <th>box</th>\n",
       "      <th>width</th>\n",
       "      <th>height</th>\n",
       "      <th>id</th>\n",
       "      <th>gender</th>\n",
       "      <th>age</th>\n",
       "      <th>position_x</th>\n",
       "      <th>position_y</th>\n",
       "      <th>last_pos_time</th>\n",
       "      <th>confidence</th>\n",
       "      <th>embedding_norm</th>\n",
       "    </tr>\n",
       "  </thead>\n",
       "  <tbody>\n",
       "    <tr>\n",
       "      <th>0</th>\n",
       "      <td>[928, 234, 982, 296]</td>\n",
       "      <td>54.0</td>\n",
       "      <td>62.0</td>\n",
       "      <td>1.0</td>\n",
       "      <td>F</td>\n",
       "      <td>47.0</td>\n",
       "      <td>955.0</td>\n",
       "      <td>265.0</td>\n",
       "      <td>1.635439e+09</td>\n",
       "      <td>0.70</td>\n",
       "      <td>16.600000</td>\n",
       "    </tr>\n",
       "    <tr>\n",
       "      <th>1</th>\n",
       "      <td>[937, 241, 988, 304]</td>\n",
       "      <td>51.0</td>\n",
       "      <td>63.0</td>\n",
       "      <td>1.0</td>\n",
       "      <td>M</td>\n",
       "      <td>53.0</td>\n",
       "      <td>962.5</td>\n",
       "      <td>272.5</td>\n",
       "      <td>1.635439e+09</td>\n",
       "      <td>0.60</td>\n",
       "      <td>17.610001</td>\n",
       "    </tr>\n",
       "    <tr>\n",
       "      <th>2</th>\n",
       "      <td>[952, 239, 1000, 317]</td>\n",
       "      <td>48.0</td>\n",
       "      <td>78.0</td>\n",
       "      <td>1.0</td>\n",
       "      <td>F</td>\n",
       "      <td>43.0</td>\n",
       "      <td>976.0</td>\n",
       "      <td>278.0</td>\n",
       "      <td>1.635439e+09</td>\n",
       "      <td>0.74</td>\n",
       "      <td>16.770000</td>\n",
       "    </tr>\n",
       "    <tr>\n",
       "      <th>3</th>\n",
       "      <td>[933, 247, 995, 324]</td>\n",
       "      <td>62.0</td>\n",
       "      <td>77.0</td>\n",
       "      <td>1.0</td>\n",
       "      <td>F</td>\n",
       "      <td>45.0</td>\n",
       "      <td>964.0</td>\n",
       "      <td>285.5</td>\n",
       "      <td>1.635439e+09</td>\n",
       "      <td>0.79</td>\n",
       "      <td>18.500000</td>\n",
       "    </tr>\n",
       "    <tr>\n",
       "      <th>4</th>\n",
       "      <td>[913, 255, 972, 332]</td>\n",
       "      <td>59.0</td>\n",
       "      <td>77.0</td>\n",
       "      <td>1.0</td>\n",
       "      <td>F</td>\n",
       "      <td>43.0</td>\n",
       "      <td>942.5</td>\n",
       "      <td>293.5</td>\n",
       "      <td>1.635439e+09</td>\n",
       "      <td>0.74</td>\n",
       "      <td>17.969999</td>\n",
       "    </tr>\n",
       "    <tr>\n",
       "      <th>...</th>\n",
       "      <td>...</td>\n",
       "      <td>...</td>\n",
       "      <td>...</td>\n",
       "      <td>...</td>\n",
       "      <td>...</td>\n",
       "      <td>...</td>\n",
       "      <td>...</td>\n",
       "      <td>...</td>\n",
       "      <td>...</td>\n",
       "      <td>...</td>\n",
       "      <td>...</td>\n",
       "    </tr>\n",
       "    <tr>\n",
       "      <th>258</th>\n",
       "      <td>[89, 229, 137, 289]</td>\n",
       "      <td>48.0</td>\n",
       "      <td>60.0</td>\n",
       "      <td>1.0</td>\n",
       "      <td>M</td>\n",
       "      <td>44.0</td>\n",
       "      <td>113.0</td>\n",
       "      <td>259.0</td>\n",
       "      <td>1.635439e+09</td>\n",
       "      <td>0.54</td>\n",
       "      <td>16.180000</td>\n",
       "    </tr>\n",
       "    <tr>\n",
       "      <th>259</th>\n",
       "      <td>[119, 204, 166, 249]</td>\n",
       "      <td>47.0</td>\n",
       "      <td>45.0</td>\n",
       "      <td>1.0</td>\n",
       "      <td>M</td>\n",
       "      <td>42.0</td>\n",
       "      <td>142.5</td>\n",
       "      <td>226.5</td>\n",
       "      <td>1.635439e+09</td>\n",
       "      <td>0.58</td>\n",
       "      <td>16.059999</td>\n",
       "    </tr>\n",
       "    <tr>\n",
       "      <th>260</th>\n",
       "      <td>[123, 203, 167, 246]</td>\n",
       "      <td>44.0</td>\n",
       "      <td>43.0</td>\n",
       "      <td>1.0</td>\n",
       "      <td>M</td>\n",
       "      <td>40.0</td>\n",
       "      <td>145.0</td>\n",
       "      <td>224.5</td>\n",
       "      <td>1.635439e+09</td>\n",
       "      <td>0.56</td>\n",
       "      <td>16.170000</td>\n",
       "    </tr>\n",
       "    <tr>\n",
       "      <th>261</th>\n",
       "      <td>[31, 227, 81, 297]</td>\n",
       "      <td>50.0</td>\n",
       "      <td>70.0</td>\n",
       "      <td>16.0</td>\n",
       "      <td>F</td>\n",
       "      <td>35.0</td>\n",
       "      <td>56.0</td>\n",
       "      <td>262.0</td>\n",
       "      <td>1.635439e+09</td>\n",
       "      <td>0.51</td>\n",
       "      <td>16.080000</td>\n",
       "    </tr>\n",
       "    <tr>\n",
       "      <th>262</th>\n",
       "      <td>[121, 203, 166, 253]</td>\n",
       "      <td>45.0</td>\n",
       "      <td>50.0</td>\n",
       "      <td>1.0</td>\n",
       "      <td>M</td>\n",
       "      <td>48.0</td>\n",
       "      <td>143.5</td>\n",
       "      <td>228.0</td>\n",
       "      <td>1.635439e+09</td>\n",
       "      <td>0.59</td>\n",
       "      <td>16.700001</td>\n",
       "    </tr>\n",
       "  </tbody>\n",
       "</table>\n",
       "<p>263 rows × 11 columns</p>\n",
       "</div>"
      ],
      "text/plain": [
       "                       box  width  height    id gender   age  position_x  \\\n",
       "0     [928, 234, 982, 296]   54.0    62.0   1.0      F  47.0       955.0   \n",
       "1     [937, 241, 988, 304]   51.0    63.0   1.0      M  53.0       962.5   \n",
       "2    [952, 239, 1000, 317]   48.0    78.0   1.0      F  43.0       976.0   \n",
       "3     [933, 247, 995, 324]   62.0    77.0   1.0      F  45.0       964.0   \n",
       "4     [913, 255, 972, 332]   59.0    77.0   1.0      F  43.0       942.5   \n",
       "..                     ...    ...     ...   ...    ...   ...         ...   \n",
       "258    [89, 229, 137, 289]   48.0    60.0   1.0      M  44.0       113.0   \n",
       "259   [119, 204, 166, 249]   47.0    45.0   1.0      M  42.0       142.5   \n",
       "260   [123, 203, 167, 246]   44.0    43.0   1.0      M  40.0       145.0   \n",
       "261     [31, 227, 81, 297]   50.0    70.0  16.0      F  35.0        56.0   \n",
       "262   [121, 203, 166, 253]   45.0    50.0   1.0      M  48.0       143.5   \n",
       "\n",
       "     position_y  last_pos_time  confidence  embedding_norm  \n",
       "0         265.0   1.635439e+09        0.70       16.600000  \n",
       "1         272.5   1.635439e+09        0.60       17.610001  \n",
       "2         278.0   1.635439e+09        0.74       16.770000  \n",
       "3         285.5   1.635439e+09        0.79       18.500000  \n",
       "4         293.5   1.635439e+09        0.74       17.969999  \n",
       "..          ...            ...         ...             ...  \n",
       "258       259.0   1.635439e+09        0.54       16.180000  \n",
       "259       226.5   1.635439e+09        0.58       16.059999  \n",
       "260       224.5   1.635439e+09        0.56       16.170000  \n",
       "261       262.0   1.635439e+09        0.51       16.080000  \n",
       "262       228.0   1.635439e+09        0.59       16.700001  \n",
       "\n",
       "[263 rows x 11 columns]"
      ]
     },
     "execution_count": 17,
     "metadata": {},
     "output_type": "execute_result"
    }
   ],
   "source": [
    "df = pd.read_pickle(\"../ascensor1.pkl\")\n",
    "df"
   ]
  },
  {
   "cell_type": "code",
   "execution_count": 14,
   "id": "deluxe-reply",
   "metadata": {},
   "outputs": [
    {
     "data": {
      "text/plain": [
       "box                object\n",
       "width             float64\n",
       "height            float64\n",
       "id                float64\n",
       "gender             object\n",
       "age               float64\n",
       "position_x        float64\n",
       "position_y        float64\n",
       "last_pos_time     float64\n",
       "confidence        float32\n",
       "embedding_norm    float32\n",
       "dtype: object"
      ]
     },
     "execution_count": 14,
     "metadata": {},
     "output_type": "execute_result"
    }
   ],
   "source": [
    "df.dtypes"
   ]
  },
  {
   "cell_type": "code",
   "execution_count": 18,
   "id": "nutritional-mechanism",
   "metadata": {},
   "outputs": [],
   "source": [
    "#dfID = df.groupby(['id','gender']).count()\n",
    "#dfID = df.sort_values(by=['embedding_norm']) \n",
    "dfID = df.sort_values(['embedding_norm'],ascending=False).groupby('id').head(1)"
   ]
  },
  {
   "cell_type": "code",
   "execution_count": 5,
   "id": "ranking-strike",
   "metadata": {},
   "outputs": [
    {
     "ename": "NameError",
     "evalue": "name 'dfID' is not defined",
     "output_type": "error",
     "traceback": [
      "\u001b[0;31m---------------------------------------------\u001b[0m",
      "\u001b[0;31mNameError\u001b[0m   Traceback (most recent call last)",
      "\u001b[0;32m<ipython-input-5-edc188d80a8e>\u001b[0m in \u001b[0;36m<module>\u001b[0;34m\u001b[0m\n\u001b[0;32m----> 1\u001b[0;31m \u001b[0mdfID\u001b[0m\u001b[0;34m\u001b[0m\u001b[0;34m\u001b[0m\u001b[0m\n\u001b[0m",
      "\u001b[0;31mNameError\u001b[0m: name 'dfID' is not defined"
     ]
    }
   ],
   "source": [
    "dfID"
   ]
  },
  {
   "cell_type": "code",
   "execution_count": 19,
   "id": "passing-casino",
   "metadata": {},
   "outputs": [
    {
     "data": {
      "text/plain": [
       "16"
      ]
     },
     "execution_count": 19,
     "metadata": {},
     "output_type": "execute_result"
    }
   ],
   "source": [
    "len(dfID)"
   ]
  },
  {
   "cell_type": "code",
   "execution_count": 20,
   "id": "maritime-milan",
   "metadata": {},
   "outputs": [],
   "source": [
    "sex = dfID['gender'].value_counts()"
   ]
  },
  {
   "cell_type": "code",
   "execution_count": 21,
   "id": "announced-wound",
   "metadata": {},
   "outputs": [
    {
     "data": {
      "text/plain": [
       "7"
      ]
     },
     "execution_count": 21,
     "metadata": {},
     "output_type": "execute_result"
    }
   ],
   "source": [
    "(sex)['F']"
   ]
  }
 ],
 "metadata": {
  "kernelspec": {
   "display_name": "Python 3",
   "language": "python",
   "name": "python3"
  },
  "language_info": {
   "codemirror_mode": {
    "name": "ipython",
    "version": 3
   },
   "file_extension": ".py",
   "mimetype": "text/x-python",
   "name": "python",
   "nbconvert_exporter": "python",
   "pygments_lexer": "ipython3",
   "version": "3.8.10"
  }
 },
 "nbformat": 4,
 "nbformat_minor": 5
}
